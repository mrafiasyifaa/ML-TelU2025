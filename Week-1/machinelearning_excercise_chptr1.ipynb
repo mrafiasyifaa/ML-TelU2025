{
 "cells": [
  {
   "cell_type": "markdown",
   "id": "ce1fbfd6",
   "metadata": {},
   "source": [
    "# 🎯 Chapter 1 - The Machine Learning Landscape #"
   ]
  },
  {
   "cell_type": "markdown",
   "id": "e9365760",
   "metadata": {},
   "source": [
    "## Excercises ##"
   ]
  },
  {
   "cell_type": "markdown",
   "id": "9f35bf4a",
   "metadata": {},
   "source": [
    "### 1. How would you define Machine Learning? ###"
   ]
  },
  {
   "cell_type": "markdown",
   "id": "dc7ed321",
   "metadata": {},
   "source": [
    "> *Machine Learning* adalah sistem untuk menyelesaikan suatu problem/task yang dapat belajar mandiri dari suatu data tanpa diprogram secara eksplisit. Sistem dapat menjadi lebih baik dalam tugas tersebut berdasarkan ukuran kinerja tertentu"
   ]
  },
  {
   "cell_type": "markdown",
   "id": "fb8a11b4",
   "metadata": {},
   "source": [
    "### 2. Can you name four types of problems where it shines? ###"
   ]
  },
  {
   "cell_type": "markdown",
   "id": "1948d5d1",
   "metadata": {},
   "source": [
    "> - *Machine Learning* berguna untuk masalah kompleks yang tidak memiliki solusi algoritma langsung <br>\n",
    "> - *Machine Learning* untuk masalah dengan daftar aturan panjang jika diselesaikan dengan program <br>\n",
    "> - *Machine Learning* untuk masalah dengan lingkungan yang selalu berubah <br>\n",
    "> - *Machine Learning* untuk menemukan masalah dengan pola yang belum diketahui sebelumnya  atau **data mining** <br>"
   ]
  },
  {
   "cell_type": "markdown",
   "id": "8f3a46a7",
   "metadata": {},
   "source": [
    "### 3. What is a labeled training set? ###"
   ]
  },
  {
   "cell_type": "markdown",
   "id": "98026e93",
   "metadata": {},
   "source": [
    "> *Labeled training set* adalah kumpulan data pelatihan berisi solusi (label) untuk setiap contoh (*instance*)"
   ]
  },
  {
   "cell_type": "markdown",
   "id": "139aaea5",
   "metadata": {},
   "source": [
    "### 4. What are the two most common supervised tasks? ###"
   ]
  },
  {
   "cell_type": "markdown",
   "id": "2dedc8a2",
   "metadata": {},
   "source": [
    "> - *Regression* <br>\n",
    "> - *Classification* <br>"
   ]
  },
  {
   "cell_type": "markdown",
   "id": "bb51b273",
   "metadata": {},
   "source": [
    "### 5. Can you name four common unsupervised tasks? ###"
   ]
  },
  {
   "cell_type": "markdown",
   "id": "464623ae",
   "metadata": {},
   "source": [
    "> - *Clustering* <br>\n",
    "> - *Visualization* <br>\n",
    "> - *Dimensionality Reduction* <br>\n",
    "> - *Association Rule Learning* <br>"
   ]
  },
  {
   "cell_type": "markdown",
   "id": "44f2b906",
   "metadata": {},
   "source": [
    "### 6. What type of Machine Learning algorithm would you use to allow a robot to walk in various unknown terrains? ###"
   ]
  },
  {
   "cell_type": "markdown",
   "id": "feae3f0a",
   "metadata": {},
   "source": [
    "> Pada banyak video game, agen (*bot*) menggunakan *Reinforcement Learning* untuk berjalan mengejar *player* dalam beberapa medan yang berbeda. Medan yang paling efisien memiliki nilai (*reward*) yang tinggi. Medan yang menghalangi gerakan memiliki nilai pinalty (*punishment*) yang tinggi"
   ]
  },
  {
   "cell_type": "markdown",
   "id": "43be0d6b",
   "metadata": {},
   "source": [
    "### 7. What type of algorithm would you use to segment your customers into multiple groups? ###"
   ]
  },
  {
   "cell_type": "markdown",
   "id": "6021809d",
   "metadata": {},
   "source": [
    "> - Algoritma klasifikasi dapat mengelompokkan *customer* ke beberapa grup apabila *costumer* memiliki kesamaan karakteristik <br>\n",
    "> - Jika *costumer*  tidak memiliki karakteristik yang dapat kita definisikan, dapat menggunakan algoritma *clustering* <br>"
   ]
  },
  {
   "cell_type": "markdown",
   "id": "f0b1c497",
   "metadata": {},
   "source": [
    "### 8. Would you frame the problem of spam detection as a supervised learning problem or an unsupervised learning problem? ###"
   ]
  },
  {
   "cell_type": "markdown",
   "id": "f5a89ebe",
   "metadata": {},
   "source": [
    "> Fitur *spam filter* dalam surel adalah contoh dari *supervised learnign* karena sistem ini dikembangkan dengan dataset yang dilabel untuk pelatihannya"
   ]
  },
  {
   "cell_type": "markdown",
   "id": "a1df5303",
   "metadata": {},
   "source": [
    "### 9. What is an online learning system? ###"
   ]
  },
  {
   "cell_type": "markdown",
   "id": "cc0b3054",
   "metadata": {},
   "source": [
    "> *Online learning system* adalah sistem pembelajaran mesin secara bertahap dan terus-menerus. Pembelajaran tipe ini perlu pemantauan performa secara berkala akibat proses pemasukan data yang terus-menurus berpotensi memiliki data yang buruk kualitasnya"
   ]
  },
  {
   "cell_type": "markdown",
   "id": "feb1513a",
   "metadata": {},
   "source": [
    "### 10. What is out-of-core learning? ###"
   ]
  },
  {
   "cell_type": "markdown",
   "id": "21eb197f",
   "metadata": {},
   "source": [
    "> Tipe algoritma yang membagi data menjadi *batch* kecil untuk mengatasi masalah data yang tidak dapat dimuat pada memori utama komputer"
   ]
  },
  {
   "cell_type": "markdown",
   "id": "5050e46b",
   "metadata": {},
   "source": [
    "### 11. What type of learning algorithm relies on a similarity measure to make predictions? ###"
   ]
  },
  {
   "cell_type": "markdown",
   "id": "89641e40",
   "metadata": {},
   "source": [
    "> *Instance-based Learning* mengandalkan metriks kemiripan pada *instance* baru dengan *instance* yang lama (data latihan) dan menggunakannya untuk membuat prediksi"
   ]
  },
  {
   "cell_type": "markdown",
   "id": "189cc9ad",
   "metadata": {},
   "source": [
    "### 12. What is the difference between a model parameter and a learning algorithm’s hyperparameter? ###"
   ]
  },
  {
   "cell_type": "markdown",
   "id": "1916791a",
   "metadata": {},
   "source": [
    "> *Model parameter* berarti nilai performa dari apa yang model coba prediksi. Parameter-parameter ini yang mengukur apabila model berhasil melakukan generalisasi yang baik pada data baru <br>\n",
    "\n",
    "> *Hyperparameter* berarti parameter milik algoritma pembelajaran yang digunakan oleh model"
   ]
  },
  {
   "cell_type": "markdown",
   "id": "4469bfdc",
   "metadata": {},
   "source": [
    "### 13. What do model-based learning algorithms search for? What is the most common strategy they use to succeed? How do they make predictions? ###"
   ]
  },
  {
   "cell_type": "markdown",
   "id": "362e3d06",
   "metadata": {},
   "source": [
    "> *Model-based Learning Algorithms* mencari nilai optimal dari *model parameter*, agar model dapat melakukan generalisasi dengan baik pada data baru. Umumnya, sistem dilatih dengan mencari *cost* paling kecil yang mengukur seberapa buruk prediksi model pada data pelatihan, ditambah *penalty* <br>\n",
    "\n",
    "> Untuk membuat prediksi, fitur dari *instance* baru dimasukkan ke dalam fungsi prediksi model, menggunakan nilai parameter yang telah ditentukan oleh algoritma pembeljaran"
   ]
  },
  {
   "cell_type": "markdown",
   "id": "8e746c18",
   "metadata": {},
   "source": [
    "### 14. Can you name four of the main challenges in Machine Learning? ###"
   ]
  },
  {
   "cell_type": "markdown",
   "id": "8f76fd82",
   "metadata": {},
   "source": [
    "> - Fitur yang tidak relevan <br>\n",
    "> - *Overfitting* dan *Underfitting* <br>\n",
    "> - Kekurangan data <br>\n",
    "> - Kualitas data <br>"
   ]
  },
  {
   "cell_type": "markdown",
   "id": "d527fd3c",
   "metadata": {},
   "source": [
    "### 15. If your model performs great on the training data but generalizes poorly to new instances, what is happening? Can you name three possible solutions? ###"
   ]
  },
  {
   "cell_type": "markdown",
   "id": "c396c876",
   "metadata": {},
   "source": [
    "> Ini adalah contoh *Overfitting*, model 'menghapal' dataset daripada mempelajari pola di balik dataset tersebut <br>\n",
    "\n",
    "> Solusi: <br>\n",
    "> - Mengumpulkan lebih banyak data <br>\n",
    "> - Menyederhanakan model <br>\n",
    "> - Mengurangi *noise* dalam data pelatihan"
   ]
  },
  {
   "cell_type": "markdown",
   "id": "3e02b419",
   "metadata": {},
   "source": [
    "### 16. What is a test set, and why would you want to use it? ###"
   ]
  },
  {
   "cell_type": "markdown",
   "id": "a973f253",
   "metadata": {},
   "source": [
    "> *Test set* adalah dataset untuk mengukur dan mengevaluasi model setelah pelatihan. Hal yang diukur adalah error atau inakurasi pada model dalam melakukan generalisasi pada data baru"
   ]
  },
  {
   "cell_type": "markdown",
   "id": "379b84b2",
   "metadata": {},
   "source": [
    "### 17. What is the purpose of a validation set? ###"
   ]
  },
  {
   "cell_type": "markdown",
   "id": "0e4b71c0",
   "metadata": {},
   "source": [
    "> *Validation set* digunakan untuk membandingkan model kemudian memilih model yang terbaik dan melakukan *tuning* pada *hyperparameter*"
   ]
  },
  {
   "cell_type": "markdown",
   "id": "cc2e1f89",
   "metadata": {},
   "source": [
    "### 18. What is the train-dev set, when do you need it, and how do you use it? ###"
   ]
  },
  {
   "cell_type": "markdown",
   "id": "c99469df",
   "metadata": {},
   "source": [
    "> *Train-dev set* digunakan ketika ada risiko ketidaksesuaian (*mismatch*) antara data pelatihan dan data validasi/pengujian (yang seharusnya menyerupai data di dunia nyata). Train-dev set adalah bagian dari training set yang tidak digunakan untuk melatih model. <br>\n",
    "\n",
    "> Cara menggunakannya:<br>\n",
    "> - Model dilatih pada sisa data pelatihan <br>\n",
    "> - Dievaluasi pada *train-dev* dan *validation set* <br>"
   ]
  },
  {
   "cell_type": "markdown",
   "id": "35f8e246",
   "metadata": {},
   "source": [
    "> Jika model *perform* baik pada *training set* tetapi buruk di *train-dev* --> model *overfitting* <br>\n",
    "---\n",
    "> Jika model *perform* baik pada *train* dan *train-dev* set, tetapi buruk di *validation set* --> ada kemungkinan *data mismatch*, maka perlu dilakukan penyesuaian kembali pada dataset agar lebih mirip dengan data di lapangan (data produksi)\n"
   ]
  },
  {
   "cell_type": "markdown",
   "id": "5f901564",
   "metadata": {},
   "source": [
    "### 19. What can go wrong if you tune hyperparameters using the test set? ###"
   ]
  },
  {
   "cell_type": "markdown",
   "id": "0c1524b8",
   "metadata": {},
   "source": [
    "> Melakukan *tuning* pada *hyperparameters* berisiko menghasilkan model yang *overfitting* pada *test set*. Model akan *perform* dengan buruk dalam menggeneralisasi data baru"
   ]
  }
 ],
 "metadata": {
  "kernelspec": {
   "display_name": "Python 3",
   "language": "python",
   "name": "python3"
  },
  "language_info": {
   "name": "python",
   "version": "3.12.0"
  }
 },
 "nbformat": 4,
 "nbformat_minor": 5
}
